{
 "cells": [
  {
   "cell_type": "markdown",
   "metadata": {},
   "source": [
    "***Aquisição de Dados***"
   ]
  },
  {
   "cell_type": "code",
   "execution_count": null,
   "metadata": {},
   "outputs": [
    {
     "data": {
      "text/html": [
       "<div id=\"glowscript\" class=\"glowscript\"></div>"
      ],
      "text/plain": [
       "<IPython.core.display.HTML object>"
      ]
     },
     "metadata": {},
     "output_type": "display_data"
    },
    {
     "data": {
      "application/javascript": [
       "if (typeof Jupyter !== \"undefined\") { window.__context = { glowscript_container: $(\"#glowscript\").removeAttr(\"id\")};}else{ element.textContent = ' ';}"
      ],
      "text/plain": [
       "<IPython.core.display.Javascript object>"
      ]
     },
     "metadata": {},
     "output_type": "display_data"
    },
    {
     "data": {
      "application/javascript": [
       "if (typeof Jupyter !== \"undefined\") {require.undef(\"nbextensions/vpython_libraries/glow.min\");}else{element.textContent = ' ';}"
      ],
      "text/plain": [
       "<IPython.core.display.Javascript object>"
      ]
     },
     "metadata": {},
     "output_type": "display_data"
    },
    {
     "data": {
      "application/javascript": [
       "if (typeof Jupyter !== \"undefined\") {require.undef(\"nbextensions/vpython_libraries/glowcomm\");}else{element.textContent = ' ';}"
      ],
      "text/plain": [
       "<IPython.core.display.Javascript object>"
      ]
     },
     "metadata": {},
     "output_type": "display_data"
    },
    {
     "data": {
      "application/javascript": [
       "if (typeof Jupyter !== \"undefined\") {require.undef(\"nbextensions/vpython_libraries/jquery-ui.custom.min\");}else{element.textContent = ' ';}"
      ],
      "text/plain": [
       "<IPython.core.display.Javascript object>"
      ]
     },
     "metadata": {},
     "output_type": "display_data"
    },
    {
     "data": {
      "application/javascript": [
       "if (typeof Jupyter !== \"undefined\") {require([\"nbextensions/vpython_libraries/glow.min\"], function(){console.log(\"GLOW LOADED\");});}else{element.textContent = ' ';}"
      ],
      "text/plain": [
       "<IPython.core.display.Javascript object>"
      ]
     },
     "metadata": {},
     "output_type": "display_data"
    },
    {
     "data": {
      "application/javascript": [
       "if (typeof Jupyter !== \"undefined\") {require([\"nbextensions/vpython_libraries/glowcomm\"], function(){console.log(\"GLOWCOMM LOADED\");});}else{element.textContent = ' ';}"
      ],
      "text/plain": [
       "<IPython.core.display.Javascript object>"
      ]
     },
     "metadata": {},
     "output_type": "display_data"
    },
    {
     "data": {
      "application/javascript": [
       "if (typeof Jupyter !== \"undefined\") {require([\"nbextensions/vpython_libraries/jquery-ui.custom.min\"], function(){console.log(\"JQUERY LOADED\");});}else{element.textContent = ' ';}"
      ],
      "text/plain": [
       "<IPython.core.display.Javascript object>"
      ]
     },
     "metadata": {},
     "output_type": "display_data"
    }
   ],
   "source": [
    "#!/usr/bin/env python3\n",
    "# -*- coding: utf-8 -*-\n",
    "\n",
    "from vpython import *\n",
    "\n",
    "scene.autoscale= False\n",
    "\n",
    "#Céu\n",
    "sphere(pos=vector(0,0,0),\n",
    "    texture=\"https://encrypted-tbn0.gstatic.com/images?q=tbn%3AANd9GcQeyBdjnaFh2sKtxQtJ1da76heXCxCiSSf-1w&usqp=CAU\",\n",
    "    radius=1002,\n",
    "    shininess=0)\n",
    "#Chão   \n",
    "cylinder(pos=vector(0,0,0),\n",
    "          axis=vector(0,1,0),\n",
    "          size=vector(.1,2000,2000),\n",
    "          texture=textures.stucco)\n",
    "\n",
    "#pega dados de composição do foguete e de trajetória\n",
    "with open(\"desenho.txt\", \"r\") as arquivo:\n",
    "    for i in arquivo.readlines():\n",
    "        desenho.append(i[:-1])\n",
    "\n",
    "with open(\"altura.txt\", \"r\") as arquivo:\n",
    "    for i in arquivo.readlines():\n",
    "        posicaoy.append(i[:-1])\n",
    "\n",
    "with open(\"deslocamento.txt\", \"r\") as arquivo:\n",
    "    for i in arquivo.readlines():\n",
    "        posicaox.append(i[:-1])\n",
    "\n",
    "with open(\"atitudex.txt\", \"r\") as arquivo:\n",
    "    for i in arquivo.readlines():\n",
    "        atitudex.append(i[:-1])\n",
    "\n",
    "with open(\"atitudey.txt\", \"r\") as arquivo:\n",
    "    for i in arquivo.readlines():\n",
    "        atitudey.append(i[:-1])\n",
    "\n",
    "corpo1_diametro = 0\n",
    "corpo1_comprimento = 0\n",
    "\n",
    "#aplica dados de composição do foguete\n",
    "for i in desenho:\n",
    "    if i == \"c1\":\n",
    "        coifa_diametro = float(armazenamento[armazenamento.index(i) + 1]) * 10 ** -2\n",
    "    elif i == \"c2\":\n",
    "        coifa_comprimento = float(armazenamento[armazenamento.index(i) + 1]) * 10 ** -2\n",
    "    elif i == \"cp1\":\n",
    "        if corpo1_diametro == 0:\n",
    "            corpo1_diametro = float(armazenamento[armazenamento.index(i) + 1]) * 10 ** -2\n",
    "        else:\n",
    "            corpo2_diametro = (\n",
    "                float(armazenamento[armazenamento.index(i) + 1]) * 10 ** -2\n",
    "            )\n",
    "    elif i == \"cp2\":\n",
    "        if corpo1_comprimento == 0:\n",
    "            corpo1_comprimento = (\n",
    "                float(armazenamento[armazenamento.index(i) + 1]) * 10 ** -2\n",
    "            )\n",
    "        else:\n",
    "            corpo2_comprimento = (\n",
    "                float(armazenamento[armazenamento.index(i) + 1]) * 10 ** -2\n",
    "            )\n",
    "    elif i == \"t1\":\n",
    "        transicao_diametro_inicial = (\n",
    "            float(armazenamento[armazenamento.index(i) + 1]) * 10 ** -2\n",
    "        )\n",
    "    elif i == \"t2\":\n",
    "        transicao_comprimento = (\n",
    "            float(armazenamento[armazenamento.index(i) + 1]) * 10 ** -2\n",
    "        )\n",
    "    elif i == \"t3\":\n",
    "        transicao_diametro_final = (\n",
    "            float(armazenamento[armazenamento.index(i) + 1]) * 10 ** -2\n",
    "        )\n",
    "    elif i == \"a1\":\n",
    "        aleta_comprimento_raiz = (\n",
    "            float(armazenamento[armazenamento.index(i) + 1]) * 10 ** -2\n",
    "        )\n",
    "    elif i == \"a2\":\n",
    "        aleta_comprimento_ponta = (\n",
    "            float(armazenamento[armazenamento.index(i) + 1]) * 10 ** -2\n",
    "        )\n",
    "    elif i == \"a3\":\n",
    "        aleta_desvio = float(armazenamento[armazenamento.index(i) + 1]) * 10 ** -2\n",
    "    elif i == \"a4\":\n",
    "        aleta_largura = float(armazenamento[armazenamento.index(i) + 1]) * 10 ** -2\n",
    "    elif i == \"a5\":\n",
    "        aleta_espessura = float(armazenamento[armazenamento.index(i) + 1]) * 10 ** -2\n",
    "    elif i == \"a6\":\n",
    "        aleta_quantidade = float(armazenamento[armazenamento.index(i) + 1])\n",
    "    elif i == \"a7\":\n",
    "        aleta_distancia_do_fundo = (\n",
    "            float(armazenamento[armazenamento.index(i) + 1]) * 10 ** -2\n",
    "        )\n",
    "\n",
    "#CG do Fawkes\n",
    "CG = 33\n",
    "\n",
    "foguete_comprimento = transicao_comprimento + corpo1_comprimento + corpo2_comprimento +coifa_comprimento\n"
   ]
  },
  {
   "cell_type": "markdown",
   "metadata": {},
   "source": [
    "***Definição de Objetos***"
   ]
  },
  {
   "cell_type": "code",
   "execution_count": null,
   "metadata": {},
   "outputs": [],
   "source": [
    "#Eixos\n",
    "cylinder( pos=vector(0,0,0),\n",
    "          axis=vector(1,0,0), # x-axis\n",
    "          size=vector(50,1,1),\n",
    "          color=color.black,\n",
    "          opacity=0.5 )\n",
    "cylinder( pos=vector(0,0,0),\n",
    "          axis=vector(0,1,0), # y-axis\n",
    "          size=vector(50,1,1),\n",
    "          color=color.black,\n",
    "          opacity=0.5 )\n",
    "cylinder( pos=vector(0,0,0),\n",
    "          axis=vector(0,0,1), # z-axis\n",
    "          size=vector(50,1,1),\n",
    "          color=color.black,\n",
    "          opacity=0.5 )\n",
    "\n",
    "\n",
    "\n",
    "#base para todos os outros componentes, inicia-se no ponto (10,0,10)\n",
    "corpo2 = cylinder( pos=vector(10,0,10), axis=vector(0,1,0),\n",
    "        size=vector(corpo2_comprimento,corpo2_diametro,corpo2_diametro), color=color.red )\n",
    "        \n",
    "#seguinte à base é um cone invertido posicionado com base nos comprimentos anteriores\n",
    "transicao = cone(pos=vector(10,corpo2_comprimento+transicao_comprimento,10), axis=vector(0,-1,0), \n",
    "        size=vector(transicao_comprimento*transicao_diametro_inicial/(transicao_diametro_inicial-transicao_diametro_final),\n",
    "        transicao_diametro_inicial,transicao_diametro_inicial), color=color.white, make_trail=True, trail_type=\"points\",\n",
    "              interval=5, retain=500)\n",
    "        \n",
    "#seguinte à transição é um cilindro posicionado com base nos comprimentos anteriores\n",
    "corpo1 = cylinder( pos=vector(10,corpo2_comprimento+transicao_comprimento,10), axis=vector(0,1,0),\n",
    "        size=vector(corpo1_comprimento,corpo1_diametro,corpo1_diametro), color=color.red )\n",
    "\n",
    "#último elemento, trata-se de um cone no topo do foguete\n",
    "coifa = cone(pos=vector(10,corpo1_comprimento+corpo2_comprimento+transicao_comprimento,10), axis=vector(0,1,0), \n",
    "        size=vector(coifa_comprimento,coifa_diametro,coifa_diametro), color=color.blue)\n",
    "\n",
    "#aletas\n",
    "basex = vec(corpo2_diametro/2,0,0)\n",
    "basey = vec(0,corpo2_diametro/2,0)\n",
    "basez = vec(0,0,corpo2_diametro/2)\n",
    "\n",
    "a1 = vertex( pos=vec(0, aleta_comprimento_raiz + aleta_distancia_do_fundo,0)  + basex + corpo2.pos)\n",
    "a2 = vertex( pos=vec(aleta_largura,aleta_comprimento_ponta,0)  + basex + corpo2.pos)\n",
    "a3 = vertex( pos=vec(aleta_largura,0,0)  + basex + corpo2.pos) \n",
    "a4 = vertex( pos=vec(0,aleta_distancia_do_fundo,0) + corpo2.pos)\n",
    "\n",
    "b1 = vertex( pos=vec(0,aleta_comprimento_raiz + aleta_distancia_do_fundo,0) - basex + corpo2.pos)\n",
    "b2 = vertex( pos=vec(-aleta_largura,aleta_comprimento_ponta,0) - basex + corpo2.pos)\n",
    "b3 = vertex( pos=vec(-aleta_largura,0,0) - basex + corpo2.pos)\n",
    "b4 = vertex( pos=vec(0,aleta_distancia_do_fundo,0) + corpo2.pos)\n",
    "\n",
    "c1 = vertex( pos=vec(0,aleta_comprimento_raiz + aleta_distancia_do_fundo,0) + basez + corpo2.pos)\n",
    "c2 = vertex( pos=vec(0,aleta_comprimento_ponta,aleta_largura) + basez + corpo2.pos)\n",
    "c3 = vertex( pos=vec(0,0,aleta_largura) + basez + corpo2.pos)\n",
    "c4 = vertex( pos=vec(0,aleta_distancia_do_fundo,0) + corpo2.pos)\n",
    "\n",
    "d1 = vertex( pos=vec(0,aleta_comprimento_raiz + aleta_distancia_do_fundo,0) - basez + corpo2.pos)\n",
    "d2 = vertex( pos=vec(0,aleta_comprimento_ponta,-aleta_largura) - basez + corpo2.pos)\n",
    "d3 = vertex( pos=vec(0,0,-aleta_largura) - basez + corpo2.pos)\n",
    "d4 = vertex( pos=vec(0,aleta_distancia_do_fundo,0) + corpo2.pos)\n",
    " \n",
    "Q1 = quad(vs=[a1, a2, a3, a4])  \n",
    "Q2 = quad(vs=[b1, b2, b3, b4])\n",
    "Q3 = quad(vs=[c1, c2, c3, c4])  \n",
    "Q4 = quad(vs=[d1, d2, d3, d4])"
   ]
  },
  {
   "cell_type": "markdown",
   "metadata": {},
   "source": [
    "***Execução***"
   ]
  },
  {
   "cell_type": "code",
   "execution_count": null,
   "metadata": {},
   "outputs": [],
   "source": [
    "t = 0\n",
    "\n",
    "scene.camera.follow(transicao)\n",
    "scene.camera.pos += vector(0,0,10)\n",
    "\n",
    "while t < len(atitudex):\n",
    "    rate(6)\n",
    "    scene.camera.pos += vector(0,0,10)\n",
    "    coifa.pos=vector(foguete_comprimento/2 + (CG-coifa_comprimento)*atitudex[t],(foguete_comprimento-CG)+(CG-coifa_comprimento)*atitudey[t],foguete_comprimento/2) \n",
    "    coifa.axis=vector(coifa_comprimento*atitudex[t],coifa_comprimento*atitudey[t],0)\n",
    "    \n",
    "    corpo1.pos=vector(foguete_comprimento/2 + ((CG-coifa_comprimento-corpo1_comprimento))*atitudex[t],(foguete_comprimento-CG)+(CG-coifa_comprimento-corpo1_comprimento)*atitudey[t],foguete_comprimento/2) \n",
    "    corpo1.axis=vector(corpo1_comprimento*atitudex[t],corpo1_comprimento*atitudey[t],0)\n",
    "    \n",
    "    transicao.pos=vector(foguete_comprimento/2 + ((CG-coifa_comprimento-corpo1_comprimento))*atitudex[t],(foguete_comprimento-CG)+((CG-coifa_comprimento-corpo1_comprimento))*atitudey[t],foguete_comprimento/2)\n",
    "    transicao.axis=vector(-(transicao_comprimento*transicao_diametro_inicial/(transicao_diametro_inicial-transicao_diametro_final))*atitudex[t],\n",
    "    -(transicao_comprimento*transicao_diametro_inicial/(transicao_diametro_inicial-transicao_diametro_final))*atitudey[t],0)\n",
    "    \n",
    "    corpo2.pos=vector(foguete_comprimento/2 - (foguete_comprimento-CG)*atitudex[t],(foguete_comprimento-CG)*(1-atitudey[t]),foguete_comprimento/2)\n",
    "    corpo2.axis=vector(corpo2_comprimento*atitudex[t],corpo2_comprimento*atitudey[t],0)\n",
    "    \n",
    "    coifa.pos=coifa.pos+vector(posicaox[t]*5,posicaoy[t]*5,0)\n",
    "    corpo1.pos=corpo1.pos+vector(posicaox[t]*5,posicaoy[t]*5,0)\n",
    "    transicao.pos=transicao.pos+vector(posicaox[t]*5,posicaoy[t]*5,0)\n",
    "    corpo2.pos=corpo2.pos+vector(posicaox[t]*5,posicaoy[t]*5,0)\n",
    "    \n",
    "    a1.pos = vec((aleta_comprimento_raiz + aleta_distancia_do_fundo)*atitudex[t], (aleta_comprimento_raiz + aleta_distancia_do_fundo)*atitudey[t],0)  + basex*atitudey[t]  - basey*atitudex[t] + corpo2.pos\n",
    "    a2.pos = vec(aleta_largura*atitudey[t] + aleta_comprimento_ponta*atitudex[t],-aleta_largura*atitudex[t] + aleta_comprimento_ponta*atitudey[t],0)  + basex*atitudey[t]  - basey*atitudex[t] + corpo2.pos\n",
    "    a3.pos = vec(aleta_largura*atitudey[t],-aleta_largura*atitudex[t],0)  + basex*atitudey[t]  - basey*atitudex[t] + corpo2.pos\n",
    "    a4.pos = vec(0,aleta_distancia_do_fundo,0) + corpo2.pos\n",
    "\n",
    "    b1.pos = vec((aleta_comprimento_raiz + aleta_distancia_do_fundo)*atitudex[t], (aleta_comprimento_raiz + aleta_distancia_do_fundo)*atitudey[t],0)  - basex*atitudey[t]  + basey*atitudex[t] + corpo2.pos\n",
    "    b2.pos = vec(-aleta_largura*atitudey[t] + aleta_comprimento_ponta*atitudex[t],+aleta_largura*atitudex[t] + aleta_comprimento_ponta*atitudey[t],0)  - basex*atitudey[t]  + basey*atitudex[t] + corpo2.pos\n",
    "    b3.pos = vec(-aleta_largura*atitudey[t],+aleta_largura*atitudex[t],0)  - basex*atitudey[t]  + basey*atitudex[t] + corpo2.pos\n",
    "    b4.pos = vec(0,aleta_distancia_do_fundo,0) + corpo2.pos\n",
    "\n",
    "    c1.pos = vec((aleta_comprimento_raiz + aleta_distancia_do_fundo)*atitudex[t],(aleta_comprimento_raiz + aleta_distancia_do_fundo)*atitudey[t],0) + basez + corpo2.pos\n",
    "    c2.pos = vec(aleta_comprimento_ponta*atitudex[t], aleta_comprimento_ponta*atitudey[t],aleta_largura) + basez  + corpo2.pos\n",
    "    c3.pos = vec(0,0,aleta_largura) + basez  + corpo2.pos\n",
    "    c4.pos = vec(0,aleta_distancia_do_fundo,0) + corpo2.pos\n",
    "\n",
    "    d1.pos = vec((aleta_comprimento_raiz + aleta_distancia_do_fundo)*atitudex[t],(aleta_comprimento_raiz + aleta_distancia_do_fundo)*atitudey[t],0) - basez + corpo2.pos\n",
    "    d2.pos = vec(aleta_comprimento_ponta*atitudex[t], aleta_comprimento_ponta*atitudey[t],-aleta_largura) - basez  + corpo2.pos\n",
    "    d3.pos = vec(0,0,-aleta_largura) - basez  + corpo2.pos\n",
    "    d4.pos = vec(0,aleta_distancia_do_fundo,0) + corpo2.pos\n",
    "\n",
    "    t = t + 1"
   ]
  }
 ],
 "metadata": {
  "kernelspec": {
   "display_name": "Python 3",
   "language": "python",
   "name": "python3"
  },
  "language_info": {
   "codemirror_mode": {
    "name": "ipython",
    "version": 3
   },
   "file_extension": ".py",
   "mimetype": "text/x-python",
   "name": "python",
   "nbconvert_exporter": "python",
   "pygments_lexer": "ipython3",
   "version": "3.7.6"
  }
 },
 "nbformat": 4,
 "nbformat_minor": 4
}
